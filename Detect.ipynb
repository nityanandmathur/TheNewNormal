{
 "cells": [
  {
   "cell_type": "code",
   "execution_count": null,
   "id": "f448f0a9",
   "metadata": {},
   "outputs": [],
   "source": [
    "import numpy as np\n",
    "import PIL\n",
    "import os\n",
    "import tensorflow as tf\n",
    "import matplotlib.pyplot as plt\n",
    "import pathlib\n",
    "import glob2"
   ]
  },
  {
   "cell_type": "code",
   "execution_count": null,
   "id": "0a117b28",
   "metadata": {},
   "outputs": [],
   "source": [
    "from tensorflow import keras\n",
    "from tensorflow.keras import layers\n",
    "from tensorflow.keras.models import Sequential"
   ]
  },
  {
   "cell_type": "code",
   "execution_count": null,
   "id": "57546b1a",
   "metadata": {},
   "outputs": [],
   "source": [
    "data_dir = 'F:\\TheNewNormal\\data'\n",
    "data_dir = pathlib.Path(data_dir) #Using pathlib to convert path to recognizable directory by system(os)."
   ]
  },
  {
   "cell_type": "code",
   "execution_count": null,
   "id": "f942a594",
   "metadata": {},
   "outputs": [],
   "source": [
    "batch_size = 35 #Creation of batches to reduce runtime load on CPU\n",
    "image_height = 180\n",
    "image_width = 180"
   ]
  },
  {
   "cell_type": "code",
   "execution_count": null,
   "id": "4eb93e0d",
   "metadata": {},
   "outputs": [],
   "source": [
    "train_ds = tf.keras.utils.image_dataset_from_directory(\n",
    "  data_dir,\n",
    "  validation_split=0.2, #Using 20% of dataset to validate model.\n",
    "  subset=\"training\", #Pushing 80% images to training subset.\n",
    "  seed=123,\n",
    "  image_size=(image_height, image_width),\n",
    "  batch_size=batch_size)"
   ]
  },
  {
   "cell_type": "code",
   "execution_count": null,
   "id": "84d51bd6",
   "metadata": {},
   "outputs": [],
   "source": [
    "val_ds = tf.keras.utils.image_dataset_from_directory(\n",
    "    data_dir,\n",
    "    validation_split=0.2, #Using 20% of dataset to validate model.\n",
    "    subset=\"validation\", #Pushing 20% of images to validation subset\n",
    "    seed=123,\n",
    "    image_size=(image_height, image_width),\n",
    "    batch_size=batch_size)"
   ]
  },
  {
   "cell_type": "code",
   "execution_count": null,
   "id": "6d63e938",
   "metadata": {},
   "outputs": [],
   "source": [
    "class_names = train_ds.class_names\n",
    "print(class_names)"
   ]
  },
  {
   "cell_type": "code",
   "execution_count": null,
   "id": "3aa40403",
   "metadata": {},
   "outputs": [],
   "source": [
    "plt.figure(figsize=(10,10)) #setting width and height of image to be displayed to 10X10.\n",
    "for images, labels in train_ds.take(1):\n",
    "    for i in range(6):\n",
    "        ax = plt.subplot(3,2,i+1)\n",
    "        plt.imshow(images[i].numpy().astype(\"uint8\"))\n",
    "        plt.title(class_names[labels[i]])\n",
    "        plt.axis(\"off\")"
   ]
  },
  {
   "cell_type": "code",
   "execution_count": null,
   "id": "e13055a5",
   "metadata": {},
   "outputs": [],
   "source": [
    "AUTOTUNE = tf.data.AUTOTUNE\n",
    "\n",
    "train_ds = train_ds.cache().shuffle(1000).prefetch(buffer_size=AUTOTUNE)\n",
    "val_ds = val_ds.cache().prefetch(buffer_size=AUTOTUNE) # Using prefetch(), during training, data preprocessing and model execution are combined."
   ]
  },
  {
   "cell_type": "code",
   "execution_count": null,
   "id": "3bc1ae4c",
   "metadata": {},
   "outputs": [],
   "source": [
    "normalization_layer = layers.Rescaling(1./255) #Standarizing values to [0,1] for neural network."
   ]
  },
  {
   "cell_type": "code",
   "execution_count": null,
   "id": "302b45c0",
   "metadata": {},
   "outputs": [],
   "source": [
    "normalized_ds = train_ds.map(lambda x, y: (normalization_layer(x),y)) #Using dataset.map() to overlap.\n",
    "image_batch, labels_batch = next(iter(normalized_ds))\n",
    "first_image = image_batch[0] #check pixel for first image.\n",
    "print(np.min(first_image), np.max(first_image)) #Checking for pixel values."
   ]
  },
  {
   "cell_type": "code",
   "execution_count": null,
   "id": "90a0f75b",
   "metadata": {},
   "outputs": [],
   "source": [
    "num_classes = 2\n",
    "\n",
    "model = Sequential([\n",
    "    layers.Rescaling(1./255, input_shape=(image_height, image_width, 3)),\n",
    "    layers.Conv2D(16, 3, padding='same', activation='relu'),#Generates a tensor of outputs by convolving a convolution kernel with the layer input.\n",
    "    layers.MaxPooling2D(), #Max pooling operation for 2D spatial data.\n",
    "    layers.Conv2D(32, 3, padding='same', activation='relu'),#incresing number of filters.\n",
    "    layers.MaxPooling2D(),\n",
    "    layers.Conv2D(64, 3, padding='same', activation='relu'),#Again, increasing number of filters.\n",
    "    layers.MaxPooling2D(),\n",
    "    layers.Flatten(), #Flattens the ouput layer array.\n",
    "    layers.Dense(128, activation='relu'),\n",
    "    layers.Dense(num_classes)\n",
    "])"
   ]
  },
  {
   "cell_type": "code",
   "execution_count": null,
   "id": "0372c2a7",
   "metadata": {},
   "outputs": [],
   "source": [
    "model.compile(optimizer='adam', #Using the Adam optimization technique.\n",
    "             loss=tf.keras.losses.SparseCategoricalCrossentropy(from_logits=True), #Calculates loss\n",
    "             metrics=['accuracy'])"
   ]
  },
  {
   "cell_type": "markdown",
   "id": "b2626541",
   "metadata": {},
   "source": [
    "**Checking summary of model - Output Shapes and Paramaters.**"
   ]
  },
  {
   "cell_type": "code",
   "execution_count": null,
   "id": "2b187cca",
   "metadata": {},
   "outputs": [],
   "source": [
    "model.summary()"
   ]
  },
  {
   "cell_type": "markdown",
   "id": "a1edb7fa",
   "metadata": {},
   "source": [
    "**Training the model.**"
   ]
  },
  {
   "cell_type": "code",
   "execution_count": null,
   "id": "9f2c5844",
   "metadata": {},
   "outputs": [],
   "source": [
    "epochs = 9 #Used 10 epochs to get higher confidence level in testing.\n",
    "history = model.fit(\n",
    "    train_ds,\n",
    "    validation_data=val_ds,\n",
    "    epochs=epochs\n",
    ")"
   ]
  },
  {
   "cell_type": "code",
   "execution_count": null,
   "id": "6e9a2364",
   "metadata": {},
   "outputs": [],
   "source": [
    "acc = history.history['accuracy']\n",
    "val_acc = history.history['val_accuracy']\n",
    "\n",
    "loss = history.history['loss']\n",
    "val_loss = history.history['val_loss']\n",
    "\n",
    "epochs_range = range(epochs)\n",
    "\n",
    "plt.figure(figsize=(8,8)) \n",
    "plt.subplot(1,2,1)\n",
    "plt.plot(epochs_range, acc, label='Training Accuracy')\n",
    "plt.plot(epochs_range, val_acc, label='Validation Accuracy')\n",
    "plt.legend(loc='lower right')\n",
    "plt.title('Training and Validation Accuracy')\n",
    "\n",
    "plt.subplot(1,2,2)\n",
    "plt.plot(epochs_range, loss, label = 'Training Loss')\n",
    "plt.plot(epochs_range, val_loss, label = \"Validation Loss\")\n",
    "plt.legend(loc = 'upper right')\n",
    "plt.title(\"Training and Validation Loss\")\n",
    "plt.show()"
   ]
  },
  {
   "cell_type": "code",
   "execution_count": null,
   "id": "8b2dc2be",
   "metadata": {},
   "outputs": [],
   "source": [
    "from PIL import Image\n",
    "from IPython.display import display\n",
    "img_path = './test/check2.jpg'\n",
    "\n",
    "display(Image.open(img_path))\n",
    "\n",
    "img = tf.keras.utils.load_img(\n",
    "    img_path, target_size=(image_height, image_width)\n",
    ")\n",
    "img_array = tf.keras.utils.img_to_array(img)\n",
    "img_array = tf.expand_dims(img_array, 0)\n",
    "\n",
    "predictions = model.predict(img_array)\n",
    "score = tf.nn.softmax(predictions[0])\n",
    "\n",
    "print(\"This image most likely belongs to {} with a {:.2f} percent confidence\"\n",
    "     .format(class_names[np.argmax(score)], 100 * np.max(score))\n",
    "     )"
   ]
  }
 ],
 "metadata": {
  "kernelspec": {
   "display_name": "Python 3",
   "language": "python",
   "name": "python3"
  },
  "language_info": {
   "codemirror_mode": {
    "name": "ipython",
    "version": 3
   },
   "file_extension": ".py",
   "mimetype": "text/x-python",
   "name": "python",
   "nbconvert_exporter": "python",
   "pygments_lexer": "ipython3",
   "version": "3.8.8"
  }
 },
 "nbformat": 4,
 "nbformat_minor": 5
}
